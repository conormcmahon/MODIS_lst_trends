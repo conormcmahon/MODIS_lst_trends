{
 "cells": [
  {
   "cell_type": "markdown",
   "id": "dbb753e1-5695-41a0-bff0-ad3171194fe8",
   "metadata": {},
   "source": [
    "Delete all the files out of the specified folder!"
   ]
  },
  {
   "cell_type": "code",
   "execution_count": 9,
   "id": "c596e891-4669-410a-984c-1f15ccb722e0",
   "metadata": {},
   "outputs": [
    {
     "data": {
      "text/plain": [
       "['Deleted asset projects/corvus-phenology-drylands/assets/modis_imperial_valley/Aqua_day_modis_lst_doy_1_aqua_day_crops',\n",
       " 'Deleted asset projects/corvus-phenology-drylands/assets/modis_imperial_valley/Aqua_day_modis_lst_doy_1_aqua_day_natural',\n",
       " 'Deleted asset projects/corvus-phenology-drylands/assets/modis_imperial_valley/Aqua_day_modis_lst_doy_1_aqua_day_urban']"
      ]
     },
     "execution_count": 9,
     "metadata": {},
     "output_type": "execute_result"
    }
   ],
   "source": [
    "import ee\n",
    "\n",
    "# Initialize the Earth Engine module.\n",
    "ee.Initialize(project='corvus-phenology-drylands')\n",
    "\n",
    "# Based on this StackExchange answer from Oliver Lopez:\n",
    "#    https://gis.stackexchange.com/questions/467363/batch-deleting-of-earth-engine-assets\n",
    "\n",
    "def conditional_asset_rm(x):\n",
    "    \"\"\"Deletes asset if starts with starts_with \"\"\"\n",
    "    id = x[\"id\"]              # users/username/file  or projects/project-name/assets/file\n",
    "    findex = 5 if id.startswith(\"users\") else 3\n",
    "    name = x[\"name\"]          # projects/earthengine-legacy/assets/users/username/file or projects/project-name/assets/file\n",
    "    f = name.split(\"/\")[findex]  # file\n",
    "    ee.data.deleteAsset(id)\n",
    "    return f\"Deleted asset {id}\"\n",
    "    \n",
    "    return 0\n",
    "\n",
    "asset_list = ee.data.listAssets(\"projects/corvus-phenology-drylands/assets/modis_imperial_valley/\")[\"assets\"]\n",
    "\n",
    "[conditional_asset_rm(x) for x in asset_list]"
   ]
  },
  {
   "cell_type": "code",
   "execution_count": null,
   "id": "d94454f5-ad23-4da4-b4ca-90535eb2181d",
   "metadata": {},
   "outputs": [],
   "source": []
  }
 ],
 "metadata": {
  "kernelspec": {
   "display_name": "Python 3 (ipykernel)",
   "language": "python",
   "name": "python3"
  },
  "language_info": {
   "codemirror_mode": {
    "name": "ipython",
    "version": 3
   },
   "file_extension": ".py",
   "mimetype": "text/x-python",
   "name": "python",
   "nbconvert_exporter": "python",
   "pygments_lexer": "ipython3",
   "version": "3.13.1"
  }
 },
 "nbformat": 4,
 "nbformat_minor": 5
}
